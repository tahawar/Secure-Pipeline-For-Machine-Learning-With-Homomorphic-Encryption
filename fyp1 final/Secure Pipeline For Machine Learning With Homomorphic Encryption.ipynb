{
 "cells": [
  {
   "cell_type": "code",
   "execution_count": 18,
   "id": "db6634a6",
   "metadata": {},
   "outputs": [],
   "source": [
    "import phe as paillier\n",
    "import json"
   ]
  },
  {
   "cell_type": "code",
   "execution_count": 19,
   "id": "20f18bb2",
   "metadata": {},
   "outputs": [],
   "source": [
    "def storeKeys():\n",
    "\tpublic_key, private_key = paillier.generate_paillier_keypair()\n",
    "\tkeys={}\n",
    "\tkeys['public_key'] = {'n': public_key.n}\n",
    "\tkeys['private_key'] = {'p': private_key.p,'q':private_key.q}\n",
    "\twith open('custkeys.json', 'w') as file: \n",
    "\t\tjson.dump(keys, file)"
   ]
  },
  {
   "cell_type": "code",
   "execution_count": 20,
   "id": "8f063a4e",
   "metadata": {},
   "outputs": [],
   "source": [
    "storeKeys()"
   ]
  },
  {
   "cell_type": "code",
   "execution_count": 16,
   "id": "9f49fe58",
   "metadata": {},
   "outputs": [],
   "source": [
    "def getKeys():\n",
    "\twith open('custkeys.json', 'r') as file: \n",
    "\t\tkeys=json.load(file)\n",
    "\t\tpub_key=paillier.PaillierPublicKey(n=int(keys['public_key']['n']))\n",
    "\t\tpriv_key=paillier.PaillierPrivateKey(pub_key,keys['private_key']['p'],keys['private_key']['q'])\n",
    "\t\treturn pub_key, priv_key "
   ]
  },
  {
   "cell_type": "code",
   "execution_count": 17,
   "id": "5c630afa",
   "metadata": {},
   "outputs": [
    {
     "data": {
      "text/plain": [
       "(<PaillierPublicKey e496ce654c>,\n",
       " <PaillierPrivateKey for <PaillierPublicKey e496ce654c>>)"
      ]
     },
     "execution_count": 17,
     "metadata": {},
     "output_type": "execute_result"
    }
   ],
   "source": [
    "getKeys()"
   ]
  },
  {
   "cell_type": "code",
   "execution_count": null,
   "id": "924354dd",
   "metadata": {},
   "outputs": [],
   "source": []
  },
  {
   "cell_type": "code",
   "execution_count": 23,
   "id": "40f32839",
   "metadata": {},
   "outputs": [],
   "source": [
    "\n"
   ]
  },
  {
   "cell_type": "code",
   "execution_count": 24,
   "id": "c508b2f4",
   "metadata": {},
   "outputs": [],
   "source": [
    "\n"
   ]
  },
  {
   "cell_type": "code",
   "execution_count": null,
   "id": "5f24578e",
   "metadata": {},
   "outputs": [],
   "source": []
  },
  {
   "cell_type": "code",
   "execution_count": null,
   "id": "31f3278d",
   "metadata": {},
   "outputs": [],
   "source": []
  }
 ],
 "metadata": {
  "kernelspec": {
   "display_name": "Python 3 (ipykernel)",
   "language": "python",
   "name": "python3"
  },
  "language_info": {
   "codemirror_mode": {
    "name": "ipython",
    "version": 3
   },
   "file_extension": ".py",
   "mimetype": "text/x-python",
   "name": "python",
   "nbconvert_exporter": "python",
   "pygments_lexer": "ipython3",
   "version": "3.9.13"
  }
 },
 "nbformat": 4,
 "nbformat_minor": 5
}
