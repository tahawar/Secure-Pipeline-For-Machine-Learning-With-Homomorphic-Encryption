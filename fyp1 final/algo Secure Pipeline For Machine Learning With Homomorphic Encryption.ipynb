{
 "cells": [
  {
   "cell_type": "markdown",
   "metadata": {
    "id": "x5xqeeMQ3_qF"
   },
   "source": [
    "# Secure Pipeline For Machine Learning With Homomorphic Encryption"
   ]
  },
  {
   "cell_type": "markdown",
   "metadata": {
    "id": "ligEsxuT3_qJ"
   },
   "source": [
    "# Table of Contents\n",
    "    1. Introduction:\n",
    "        Scenario\n",
    "        Goal\n",
    "       \n",
    " \n",
    "    2. Data Wrangling\n",
    "    \n",
    "    3. Exploratory Data Analysis:\n",
    "         \n",
    "    4. Machine Learning\n",
    "        Predictions\n",
    "    \n",
    "    5. Conclusions\n"
   ]
  },
  {
   "cell_type": "markdown",
   "metadata": {
    "id": "6LAwKggA3_qK"
   },
   "source": [
    "# 1. Introduction"
   ]
  },
  {
   "cell_type": "markdown",
   "metadata": {
    "id": "F4AewIqe3_qL"
   },
   "source": [
    "# Scenario:"
   ]
  },
  {
   "cell_type": "markdown",
   "metadata": {
    "id": "3pk33ps53_qL"
   },
   "source": [
    "\n",
    "As a company, we aim to forecast the salary of a potential employee based on the available data, in order to make an informed decision about their compensation in the future."
   ]
  },
  {
   "cell_type": "markdown",
   "metadata": {
    "id": "dveqEw_M3_qM"
   },
   "source": [
    "# Goal: \n",
    "\n",
    "\n"
   ]
  },
  {
   "cell_type": "markdown",
   "metadata": {
    "id": "5xKfr0oz3_qM"
   },
   "source": [
    "\n",
    "    -To predict salary of the new employee.\n",
    "    \n",
    "    -To experiment with various  Models & see which yields  greatest accuracy. \n",
    "   "
   ]
  },
  {
   "cell_type": "code",
   "execution_count": 1,
   "metadata": {
    "id": "Cdgd3hDs3_qO"
   },
   "outputs": [],
   "source": [
    "import numpy as np\n",
    "import pandas as pd\n",
    "import matplotlib as plt\n",
    "import seaborn as sns\n",
    "import matplotlib.pyplot as plt"
   ]
  },
  {
   "cell_type": "markdown",
   "metadata": {
    "id": "OD2jp5SO3_qQ"
   },
   "source": [
    "# 2. Data Wrangling"
   ]
  },
  {
   "cell_type": "code",
   "execution_count": 2,
   "metadata": {
    "colab": {
     "base_uri": "https://localhost:8080/",
     "height": 206
    },
    "id": "dHb658hP3_qR",
    "outputId": "368d4e08-35c8-4505-b192-a6855b1105c7"
   },
   "outputs": [
    {
     "data": {
      "text/html": [
       "<div>\n",
       "<style scoped>\n",
       "    .dataframe tbody tr th:only-of-type {\n",
       "        vertical-align: middle;\n",
       "    }\n",
       "\n",
       "    .dataframe tbody tr th {\n",
       "        vertical-align: top;\n",
       "    }\n",
       "\n",
       "    .dataframe thead th {\n",
       "        text-align: right;\n",
       "    }\n",
       "</style>\n",
       "<table border=\"1\" class=\"dataframe\">\n",
       "  <thead>\n",
       "    <tr style=\"text-align: right;\">\n",
       "      <th></th>\n",
       "      <th>age</th>\n",
       "      <th>healthy_eating</th>\n",
       "      <th>active_lifestyle</th>\n",
       "      <th>Gender</th>\n",
       "      <th>salary</th>\n",
       "    </tr>\n",
       "  </thead>\n",
       "  <tbody>\n",
       "    <tr>\n",
       "      <th>0</th>\n",
       "      <td>36</td>\n",
       "      <td>5</td>\n",
       "      <td>5</td>\n",
       "      <td>1</td>\n",
       "      <td>2297</td>\n",
       "    </tr>\n",
       "    <tr>\n",
       "      <th>1</th>\n",
       "      <td>55</td>\n",
       "      <td>3</td>\n",
       "      <td>5</td>\n",
       "      <td>1</td>\n",
       "      <td>1134</td>\n",
       "    </tr>\n",
       "    <tr>\n",
       "      <th>2</th>\n",
       "      <td>61</td>\n",
       "      <td>8</td>\n",
       "      <td>1</td>\n",
       "      <td>1</td>\n",
       "      <td>4969</td>\n",
       "    </tr>\n",
       "    <tr>\n",
       "      <th>3</th>\n",
       "      <td>29</td>\n",
       "      <td>3</td>\n",
       "      <td>6</td>\n",
       "      <td>1</td>\n",
       "      <td>902</td>\n",
       "    </tr>\n",
       "    <tr>\n",
       "      <th>4</th>\n",
       "      <td>34</td>\n",
       "      <td>6</td>\n",
       "      <td>2</td>\n",
       "      <td>1</td>\n",
       "      <td>3574</td>\n",
       "    </tr>\n",
       "  </tbody>\n",
       "</table>\n",
       "</div>"
      ],
      "text/plain": [
       "   age  healthy_eating  active_lifestyle  Gender  salary\n",
       "0   36               5                 5       1    2297\n",
       "1   55               3                 5       1    1134\n",
       "2   61               8                 1       1    4969\n",
       "3   29               3                 6       1     902\n",
       "4   34               6                 2       1    3574"
      ]
     },
     "execution_count": 2,
     "metadata": {},
     "output_type": "execute_result"
    }
   ],
   "source": [
    "filePath = 'employee_data.csv'\n",
    "\n",
    "data = pd.read_csv(filePath)\n",
    "\n",
    "data.head(5)"
   ]
  },
  {
   "cell_type": "code",
   "execution_count": 3,
   "metadata": {
    "colab": {
     "base_uri": "https://localhost:8080/",
     "height": 165
    },
    "id": "UmghMrHk_Fsk",
    "outputId": "5e23d532-df0d-47c8-9a68-500633f7de01"
   },
   "outputs": [
    {
     "data": {
      "text/plain": [
       "array([[  36,    5,    5,    1, 2297]], dtype=int64)"
      ]
     },
     "execution_count": 3,
     "metadata": {},
     "output_type": "execute_result"
    }
   ],
   "source": [
    "data.head(1).values"
   ]
  },
  {
   "cell_type": "code",
   "execution_count": 4,
   "metadata": {
    "colab": {
     "base_uri": "https://localhost:8080/"
    },
    "id": "Ds4dicsd3_qS",
    "outputId": "79a39e1c-d5c8-4da8-ec23-dfdd8504c35f"
   },
   "outputs": [
    {
     "name": "stdout",
     "output_type": "stream",
     "text": [
      "(Rows, columns): (1000, 5)\n"
     ]
    }
   ],
   "source": [
    "print(\"(Rows, columns): \" + str(data.shape))\n"
   ]
  },
  {
   "cell_type": "code",
   "execution_count": 5,
   "metadata": {
    "colab": {
     "base_uri": "https://localhost:8080/"
    },
    "id": "6GrWm4_73_qS",
    "outputId": "84c5f7a0-b172-46fd-cdab-2f21c254dc48"
   },
   "outputs": [
    {
     "data": {
      "text/plain": [
       "Index(['age', 'healthy_eating', 'active_lifestyle', 'Gender', 'salary'], dtype='object')"
      ]
     },
     "execution_count": 5,
     "metadata": {},
     "output_type": "execute_result"
    }
   ],
   "source": [
    "data.columns "
   ]
  },
  {
   "cell_type": "code",
   "execution_count": 6,
   "metadata": {
    "colab": {
     "base_uri": "https://localhost:8080/"
    },
    "id": "y8eTmEp43_qT",
    "outputId": "d5c4a2c2-8960-47e4-ee2f-2fd786036831"
   },
   "outputs": [
    {
     "data": {
      "text/plain": [
       "age                  47\n",
       "healthy_eating       11\n",
       "active_lifestyle     11\n",
       "Gender                2\n",
       "salary              101\n",
       "dtype: int64"
      ]
     },
     "execution_count": 6,
     "metadata": {},
     "output_type": "execute_result"
    }
   ],
   "source": [
    "data.nunique(axis=0)# returns the number of unique values for each variable."
   ]
  },
  {
   "cell_type": "code",
   "execution_count": 7,
   "metadata": {
    "colab": {
     "base_uri": "https://localhost:8080/",
     "height": 300
    },
    "id": "ZzD9KA__3_qT",
    "outputId": "3616999d-d2ab-4cc4-d07f-8a5013480e9c"
   },
   "outputs": [
    {
     "data": {
      "text/html": [
       "<div>\n",
       "<style scoped>\n",
       "    .dataframe tbody tr th:only-of-type {\n",
       "        vertical-align: middle;\n",
       "    }\n",
       "\n",
       "    .dataframe tbody tr th {\n",
       "        vertical-align: top;\n",
       "    }\n",
       "\n",
       "    .dataframe thead th {\n",
       "        text-align: right;\n",
       "    }\n",
       "</style>\n",
       "<table border=\"1\" class=\"dataframe\">\n",
       "  <thead>\n",
       "    <tr style=\"text-align: right;\">\n",
       "      <th></th>\n",
       "      <th>age</th>\n",
       "      <th>healthy_eating</th>\n",
       "      <th>active_lifestyle</th>\n",
       "      <th>Gender</th>\n",
       "      <th>salary</th>\n",
       "    </tr>\n",
       "  </thead>\n",
       "  <tbody>\n",
       "    <tr>\n",
       "      <th>count</th>\n",
       "      <td>1000.000000</td>\n",
       "      <td>1000.000000</td>\n",
       "      <td>1000.000000</td>\n",
       "      <td>1000.00000</td>\n",
       "      <td>1000.00000</td>\n",
       "    </tr>\n",
       "    <tr>\n",
       "      <th>mean</th>\n",
       "      <td>41.155000</td>\n",
       "      <td>4.944000</td>\n",
       "      <td>5.683000</td>\n",
       "      <td>0.51000</td>\n",
       "      <td>2227.46100</td>\n",
       "    </tr>\n",
       "    <tr>\n",
       "      <th>std</th>\n",
       "      <td>13.462995</td>\n",
       "      <td>2.013186</td>\n",
       "      <td>2.048587</td>\n",
       "      <td>0.50015</td>\n",
       "      <td>1080.20976</td>\n",
       "    </tr>\n",
       "    <tr>\n",
       "      <th>min</th>\n",
       "      <td>18.000000</td>\n",
       "      <td>0.000000</td>\n",
       "      <td>0.000000</td>\n",
       "      <td>0.00000</td>\n",
       "      <td>553.00000</td>\n",
       "    </tr>\n",
       "    <tr>\n",
       "      <th>25%</th>\n",
       "      <td>30.000000</td>\n",
       "      <td>4.000000</td>\n",
       "      <td>4.000000</td>\n",
       "      <td>0.00000</td>\n",
       "      <td>1360.00000</td>\n",
       "    </tr>\n",
       "    <tr>\n",
       "      <th>50%</th>\n",
       "      <td>41.000000</td>\n",
       "      <td>5.000000</td>\n",
       "      <td>6.000000</td>\n",
       "      <td>1.00000</td>\n",
       "      <td>2174.00000</td>\n",
       "    </tr>\n",
       "    <tr>\n",
       "      <th>75%</th>\n",
       "      <td>53.000000</td>\n",
       "      <td>6.000000</td>\n",
       "      <td>7.000000</td>\n",
       "      <td>1.00000</td>\n",
       "      <td>2993.75000</td>\n",
       "    </tr>\n",
       "    <tr>\n",
       "      <th>max</th>\n",
       "      <td>64.000000</td>\n",
       "      <td>10.000000</td>\n",
       "      <td>10.000000</td>\n",
       "      <td>1.00000</td>\n",
       "      <td>5550.00000</td>\n",
       "    </tr>\n",
       "  </tbody>\n",
       "</table>\n",
       "</div>"
      ],
      "text/plain": [
       "               age  healthy_eating  active_lifestyle      Gender      salary\n",
       "count  1000.000000     1000.000000       1000.000000  1000.00000  1000.00000\n",
       "mean     41.155000        4.944000          5.683000     0.51000  2227.46100\n",
       "std      13.462995        2.013186          2.048587     0.50015  1080.20976\n",
       "min      18.000000        0.000000          0.000000     0.00000   553.00000\n",
       "25%      30.000000        4.000000          4.000000     0.00000  1360.00000\n",
       "50%      41.000000        5.000000          6.000000     1.00000  2174.00000\n",
       "75%      53.000000        6.000000          7.000000     1.00000  2993.75000\n",
       "max      64.000000       10.000000         10.000000     1.00000  5550.00000"
      ]
     },
     "execution_count": 7,
     "metadata": {},
     "output_type": "execute_result"
    }
   ],
   "source": [
    "#summarizes the count, mean, standard deviation, min, and max for numeric variables.\n",
    "data.describe()"
   ]
  },
  {
   "cell_type": "markdown",
   "metadata": {
    "id": "rPKOnPa03_qT"
   },
   "source": [
    "Luckily we have no missing data to handle!"
   ]
  },
  {
   "cell_type": "code",
   "execution_count": 8,
   "metadata": {
    "colab": {
     "base_uri": "https://localhost:8080/"
    },
    "id": "p-SL81Dg3_qU",
    "outputId": "00bad17b-c8ef-492b-a6da-f5b65fac15d1"
   },
   "outputs": [
    {
     "name": "stdout",
     "output_type": "stream",
     "text": [
      "age                 0\n",
      "healthy_eating      0\n",
      "active_lifestyle    0\n",
      "Gender              0\n",
      "salary              0\n",
      "dtype: int64\n"
     ]
    }
   ],
   "source": [
    "# Display the Missing Values\n",
    "\n",
    "print(data.isna().sum())"
   ]
  },
  {
   "cell_type": "markdown",
   "metadata": {
    "id": "gInA_udS3_qU"
   },
   "source": [
    "Let's see if theirs a good proportion between our positive and negative results. It appears we have a good balance between the two. "
   ]
  },
  {
   "cell_type": "code",
   "execution_count": 9,
   "metadata": {
    "id": "lNbVJsdG3_qU",
    "outputId": "60772f95-bd18-42d8-e1a0-573145579629"
   },
   "outputs": [
    {
     "data": {
      "text/plain": [
       "2646    38\n",
       "902     35\n",
       "1252    35\n",
       "3228    34\n",
       "2414    34\n",
       "        ..\n",
       "2288     1\n",
       "4155     1\n",
       "3457     1\n",
       "4276     1\n",
       "5204     1\n",
       "Name: salary, Length: 101, dtype: int64"
      ]
     },
     "execution_count": 9,
     "metadata": {},
     "output_type": "execute_result"
    }
   ],
   "source": [
    "data['salary'].value_counts()"
   ]
  },
  {
   "cell_type": "markdown",
   "metadata": {
    "id": "fKNU7N-S3_qV"
   },
   "source": [
    "# 3. Exploratory Data Analysis"
   ]
  },
  {
   "cell_type": "code",
   "execution_count": null,
   "metadata": {
    "id": "-6Bpx-a23_qV",
    "outputId": "0c5bfafc-f3ce-4e8a-88c8-7dd79e31d990"
   },
   "outputs": [],
   "source": []
  },
  {
   "cell_type": "code",
   "execution_count": 32,
   "metadata": {},
   "outputs": [
    {
     "data": {
      "text/plain": [
       "<AxesSubplot:xlabel='age', ylabel='healthy_eating'>"
      ]
     },
     "execution_count": 32,
     "metadata": {},
     "output_type": "execute_result"
    },
    {
     "data": {
      "image/png": "[encoded data removed]",
      "text/plain": [
       "<Figure size 500x500 with 1 Axes>"
      ]
     },
     "metadata": {},
     "output_type": "display_data"
    }
   ],
   "source": [
    "plt.figure(figsize=(5,5))\n",
    "sns.scatterplot(x=data['age'],y=data['healthy_eating'],palette=\"viridis\",s=50)"
   ]
  },
  {
   "cell_type": "code",
   "execution_count": 33,
   "metadata": {},
   "outputs": [
    {
     "data": {
      "text/plain": [
       "<AxesSubplot:xlabel='salary', ylabel='healthy_eating'>"
      ]
     },
     "execution_count": 33,
     "metadata": {},
     "output_type": "execute_result"
    },
    {
     "data": {
      "image/png": "[encoded data removed]",
      "text/plain": [
       "<Figure size 500x500 with 1 Axes>"
      ]
     },
     "metadata": {},
     "output_type": "display_data"
    }
   ],
   "source": [
    "plt.figure(figsize=(5,5))\n",
    "sns.scatterplot(x=data['salary'],y=data['healthy_eating'],palette='rocket',s=50)"
   ]
  },
  {
   "cell_type": "markdown",
   "metadata": {
    "id": "MNeH4dnF3_qW"
   },
   "source": [
    "Pairplots are also a great way to immediatly see the correlations between all variables. \n",
    "But you will see me make it with only continous columns from our data, because with so many features, it can be difficult to see each one. \n",
    "So instead I will make a  pairplot with only our continous features. "
   ]
  },
  {
   "cell_type": "code",
   "execution_count": 36,
   "metadata": {},
   "outputs": [
    {
     "data": {
      "text/plain": [
       "<AxesSubplot:xlabel='age', ylabel='salary'>"
      ]
     },
     "execution_count": 36,
     "metadata": {},
     "output_type": "execute_result"
    },
    {
     "data": {
      "image/png": "[encoded data removed]",
      "text/plain": [
       "<Figure size 500x500 with 1 Axes>"
      ]
     },
     "metadata": {},
     "output_type": "display_data"
    }
   ],
   "source": [
    "plt.figure(figsize=(5,5))\n",
    "sns.scatterplot(x=data['age'],y=data['salary'],palette='rocket',s=50)"
   ]
  },
  {
   "cell_type": "code",
   "execution_count": null,
   "metadata": {
    "id": "dDxIacpE3_qX",
    "outputId": "7d58016d-3c79-45aa-f743-64f8d048e918"
   },
   "outputs": [],
   "source": []
  },
  {
   "cell_type": "markdown",
   "metadata": {
    "id": "KCAfhZVQ3_qe"
   },
   "source": [
    "# 4. Machine Learning "
   ]
  },
  {
   "cell_type": "markdown",
   "metadata": {
    "id": "UyPOa7qr3_qe"
   },
   "source": [
    "# Prepare Data for Modeling"
   ]
  },
  {
   "cell_type": "markdown",
   "metadata": {
    "id": "O_gN3FhG3_qf"
   },
   "source": [
    "Assign the 4 features to X, & the last column to our predictor, y"
   ]
  },
  {
   "cell_type": "code",
   "execution_count": 13,
   "metadata": {
    "id": "2u950wri3_qf"
   },
   "outputs": [],
   "source": [
    "X = data.iloc[:, :-1].values\n",
    "y = data.iloc[:, -1].values"
   ]
  },
  {
   "cell_type": "code",
   "execution_count": 14,
   "metadata": {},
   "outputs": [
    {
     "data": {
      "text/plain": [
       "array([[36,  5,  5,  1],\n",
       "       [55,  3,  5,  1],\n",
       "       [61,  8,  1,  1],\n",
       "       ...,\n",
       "       [49,  9,  7,  1],\n",
       "       [56,  6,  7,  0],\n",
       "       [64,  4,  9,  0]], dtype=int64)"
      ]
     },
     "execution_count": 14,
     "metadata": {},
     "output_type": "execute_result"
    }
   ],
   "source": [
    "X"
   ]
  },
  {
   "cell_type": "code",
   "execution_count": 15,
   "metadata": {},
   "outputs": [
    {
     "data": {
      "text/plain": [
       "(1000,)"
      ]
     },
     "execution_count": 15,
     "metadata": {},
     "output_type": "execute_result"
    }
   ],
   "source": [
    "y.shape"
   ]
  },
  {
   "cell_type": "markdown",
   "metadata": {
    "id": "aMY-2v703_qf"
   },
   "source": [
    "Split: the dataset into the Training set and Test set"
   ]
  },
  {
   "cell_type": "code",
   "execution_count": 16,
   "metadata": {
    "id": "A17Gm7tH3_qf"
   },
   "outputs": [],
   "source": [
    "from sklearn.model_selection import train_test_split\n",
    "x_train, x_test, y_train, y_test = train_test_split(X,y,test_size = 0.2, random_state = 1)  "
   ]
  },
  {
   "cell_type": "markdown",
   "metadata": {
    "id": "UunHRiKt3_qg"
   },
   "source": [
    "Normalize: Standardizing the data will transform the data so that its distribution will have a mean of 0 and a standard deviation of 1."
   ]
  },
  {
   "cell_type": "code",
   "execution_count": 17,
   "metadata": {
    "id": "0h414DxV3_qg"
   },
   "outputs": [],
   "source": [
    "from sklearn.preprocessing import StandardScaler\n",
    "sc = StandardScaler()\n",
    "x_train = sc.fit_transform(x_train)\n",
    "x_test = sc.transform(x_test)"
   ]
  },
  {
   "cell_type": "code",
   "execution_count": 18,
   "metadata": {},
   "outputs": [
    {
     "data": {
      "text/plain": [
       "array([ 0.20723345, -0.47831355,  0.15729302, -1.00501256])"
      ]
     },
     "execution_count": 18,
     "metadata": {},
     "output_type": "execute_result"
    }
   ],
   "source": [
    "x_train[3]"
   ]
  },
  {
   "cell_type": "code",
   "execution_count": null,
   "metadata": {
    "id": "xAu1dQn8xwBQ"
   },
   "outputs": [],
   "source": []
  },
  {
   "cell_type": "markdown",
   "metadata": {
    "id": "ldE3JwJ33_qg"
   },
   "source": [
    "# Modeling /Training"
   ]
  },
  {
   "cell_type": "markdown",
   "metadata": {
    "id": "8S9smKbu3_qg"
   },
   "source": [
    "We will now Train various Classification Models on the Training set & see which yields the highest accuracy.\n",
    "We will compare the accuracy of Logistic Regression, K-NN, SVM, Naives Bayes Classifier, Decision Trees, Random Forest, and XGBoost. Note: these are all supervised learning models. "
   ]
  },
  {
   "cell_type": "markdown",
   "metadata": {
    "id": "LGFPTaOy3_qh"
   },
   "source": [
    "Model 1: Logistic Regression\n"
   ]
  },
  {
   "cell_type": "code",
   "execution_count": 19,
   "metadata": {
    "colab": {
     "base_uri": "https://localhost:8080/"
    },
    "id": "-PWOTKZO3_qh",
    "outputId": "473a6a64-5927-42ec-966e-5ba427453cd2"
   },
   "outputs": [
    {
     "name": "stdout",
     "output_type": "stream",
     "text": [
      "0.265\n"
     ]
    }
   ],
   "source": [
    "from sklearn.metrics import classification_report \n",
    "from sklearn.metrics import accuracy_score\n",
    "from sklearn.linear_model import LogisticRegression\n",
    "\n",
    "model1 = LogisticRegression(random_state=1) # get instance of model\n",
    "model1.fit(x_train, y_train) # Train/Fit model \n",
    "\n",
    "y_pred1 = model1.predict(x_test) # get y predictions\n",
    "# print(classification_report(y_test, y_pred1)) # output accuracy\n",
    "print(accuracy_score(y_test, y_pred1))"
   ]
  },
  {
   "cell_type": "markdown",
   "metadata": {},
   "source": [
    "Model 2: GaussianNB\n"
   ]
  },
  {
   "cell_type": "code",
   "execution_count": 20,
   "metadata": {
    "colab": {
     "base_uri": "https://localhost:8080/"
    },
    "id": "4pNPpEGM3_qj",
    "outputId": "1d1eaf0a-1d63-497f-9047-21cd47742711"
   },
   "outputs": [
    {
     "name": "stdout",
     "output_type": "stream",
     "text": [
      "0.93\n"
     ]
    }
   ],
   "source": [
    "from sklearn.metrics import classification_report \n",
    "from sklearn.naive_bayes import GaussianNB\n",
    "\n",
    "model2 = GaussianNB() # get instance of model\n",
    "model2.fit(x_train, y_train) # Train/Fit model \n",
    "\n",
    "y_pred2 = model2.predict(x_test) # get y predictions\n",
    "print(accuracy_score(y_test, y_pred2)) # output accuracy"
   ]
  },
  {
   "cell_type": "markdown",
   "metadata": {
    "id": "eRF1wLaZ3_qj"
   },
   "source": [
    "Model 3: Decision Trees\n"
   ]
  },
  {
   "cell_type": "code",
   "execution_count": 21,
   "metadata": {
    "colab": {
     "base_uri": "https://localhost:8080/"
    },
    "id": "VAvJREoI3_qj",
    "outputId": "f5b3d3f2-80e3-4585-bec6-fdb0ba4be6c8"
   },
   "outputs": [
    {
     "name": "stdout",
     "output_type": "stream",
     "text": [
      "0.965\n"
     ]
    }
   ],
   "source": [
    "from sklearn.metrics import classification_report \n",
    "from sklearn.tree import DecisionTreeClassifier\n",
    "\n",
    "model3 = DecisionTreeClassifier(random_state=1) # get instance of model\n",
    "model3.fit(x_train, y_train) # Train/Fit model \n",
    "\n",
    "y_pred3 = model3.predict(x_test) # get y predictions\n",
    "print(accuracy_score(y_test, y_pred3)) # output accuracy"
   ]
  },
  {
   "cell_type": "markdown",
   "metadata": {
    "id": "ppPpjd073_qk"
   },
   "source": [
    "Model 4: Random Forest\n"
   ]
  },
  {
   "cell_type": "code",
   "execution_count": 22,
   "metadata": {
    "colab": {
     "base_uri": "https://localhost:8080/"
    },
    "id": "_Wl77kiV3_qk",
    "outputId": "0cfbf49f-bb20-45d8-d392-4ec0c9a8907c"
   },
   "outputs": [
    {
     "name": "stdout",
     "output_type": "stream",
     "text": [
      "0.9\n"
     ]
    }
   ],
   "source": [
    "from sklearn.metrics import classification_report \n",
    "from sklearn.ensemble import RandomForestClassifier\n",
    "\n",
    "model4 = RandomForestClassifier(random_state=1)# get instance of model\n",
    "model4.fit(x_train, y_train) # Train/Fit model \n",
    "\n",
    "y_pred4 = model4.predict(x_test) # get y predictions\n",
    "print(accuracy_score(y_test, y_pred4)) # output accuracy"
   ]
  },
  {
   "cell_type": "code",
   "execution_count": 23,
   "metadata": {
    "colab": {
     "base_uri": "https://localhost:8080/"
    },
    "id": "cPoQgch5xOmS",
    "outputId": "7b36c428-fb39-469c-f38b-5650baf62988"
   },
   "outputs": [
    {
     "data": {
      "text/plain": [
       "array([ 0.0576739 , -0.47831355, -1.78609566, -1.00501256])"
      ]
     },
     "execution_count": 23,
     "metadata": {},
     "output_type": "execute_result"
    }
   ],
   "source": [
    "x_test[0]"
   ]
  },
  {
   "cell_type": "code",
   "execution_count": 24,
   "metadata": {
    "id": "dpAW6nR23_qq",
    "outputId": "2349c9ea-ac5b-4a90-b643-f028ae9a908f"
   },
   "outputs": [
    {
     "name": "stdout",
     "output_type": "stream",
     "text": [
      "[2878]\n",
      "[2297]\n",
      "[2297]\n",
      "[2297]\n"
     ]
    }
   ],
   "source": [
    "print(model1.predict(sc.transform([[36,5,5,1]])))\n",
    "print(model2.predict(sc.transform([[36,5,5,1]])))\n",
    "print(model3.predict(sc.transform([[36,5,5,1]])))\n",
    "print(model4.predict(sc.transform([[36,5,5,1]])))\n",
    "\n",
    "\n",
    "\n"
   ]
  },
  {
   "cell_type": "code",
   "execution_count": 25,
   "metadata": {
    "id": "ZAqnyXVd3_qs"
   },
   "outputs": [],
   "source": [
    "import pickle\n"
   ]
  },
  {
   "cell_type": "code",
   "execution_count": 26,
   "metadata": {
    "id": "BFtgcBeXU5Ia"
   },
   "outputs": [],
   "source": [
    "# Example of saving a scikit-learn model using pickle\n",
    "pickle.dump(model4, open('decsiontree_model.pkl','wb'))\n"
   ]
  },
  {
   "cell_type": "code",
   "execution_count": 27,
   "metadata": {
    "id": "m7lLWarRViiY"
   },
   "outputs": [],
   "source": [
    "with open('standard_scaler.pkl', 'wb') as file:\n",
    "    pickle.dump(sc, file)"
   ]
  },
  {
   "cell_type": "code",
   "execution_count": null,
   "metadata": {
    "id": "Len60okT3M6r"
   },
   "outputs": [],
   "source": []
  }
 ],
 "metadata": {
  "colab": {
   "provenance": []
  },
  "kernelspec": {
   "display_name": "Python 3 (ipykernel)",
   "language": "python",
   "name": "python3"
  },
  "language_info": {
   "codemirror_mode": {
    "name": "ipython",
    "version": 3
   },
   "file_extension": ".py",
   "mimetype": "text/x-python",
   "name": "python",
   "nbconvert_exporter": "python",
   "pygments_lexer": "ipython3",
   "version": "3.9.13"
  }
 },
 "nbformat": 4,
 "nbformat_minor": 1
}
